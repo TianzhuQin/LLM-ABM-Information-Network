{
 "cells": [
  {
   "cell_type": "code",
   "execution_count": null,
   "id": "58047ea7",
   "metadata": {
    "scrolled": false
   },
   "outputs": [
    {
     "name": "stdout",
     "output_type": "stream",
     "text": [
      "Round 0 summary: Most people do not agree that dogs are better than cats.\n",
      "\n",
      "=== Conversation 1 <-> 4 ===\n",
      "1: Honestly, I’m totally with the idea that dogs are better than cats. They’re loyal, playful, and just give off such good energy—it’s hard to beat having a dog around.\n",
      "4: I get where you’re coming from, but I’ve always thought cats have their own special charm. They’re independent, low maintenance, and can be really loving in their own way too. For me, I wouldn’t say dogs are better—it just depends on what you’re looking for.\n",
      "=== End Conversation 1 <-> 4 ===\n",
      "\n",
      "Belief update 1<->4: 1 0.98 -> 0.96, 4 0.00 -> 0.04\n",
      "\n",
      "=== Conversation 0 <-> 4 ===\n",
      "0: Oh, I definitely think dogs are better! They’re just so loyal and loving, and I love how they want to be part of everything you do. Cats are cute, but dogs just have that special bond with people.\n",
      "4: I get why folks love dogs, but honestly, I think cats are just as great in their own way. They might not be as in-your-face with affection, but they’ve got their own charm and can be super loving too.\n",
      "=== End Conversation 0 <-> 4 ===\n",
      "\n",
      "Belief update 0<->4: 0 0.98 -> 0.96, 4 0.04 -> 0.05\n",
      "\n",
      "=== Conversation 0 <-> 2 ===\n",
      "0: Oh, I definitely agree! Dogs are just so loving and loyal—there’s nothing like that wagging tail greeting you at the door.\n",
      "2: I get why people love dogs, but honestly, I’m more of a cat person. Cats are just as sweet once you get to know them, and they can be really loving in their own quiet way.\n",
      "0: Oh, I totally get that—cats do have their own charm, and they can be super cuddly when they want to be. But for me, dogs just win my heart with how friendly and loyal they are, you know?\n",
      "2: I actually feel the opposite—cats just have this calm and independent vibe that I love. I think dogs are great, but I wouldn’t say they’re better than cats!\n",
      "=== End Conversation 0 <-> 2 ===\n",
      "\n",
      "Belief update 0<->2: 0 0.96 -> 0.95, 2 0.00 -> 0.03\n",
      "Round 1: 4/5 exposed/believing > 0\n",
      "Round 1 summary: Most people disagree that dogs are better than cats.\n",
      "\n",
      "=== Conversation 0 <-> 2 ===\n",
      "0: Oh, I definitely agree—dogs are just the best! They’re so loyal and loving, and I just really enjoy having their company.\n",
      "2: I totally get why people love dogs, but honestly, I think cats have their own special charm too. They're so independent and low-maintenance, which I really appreciate.\n",
      "=== End Conversation 0 <-> 2 ===\n",
      "\n",
      "Belief update 0<->2: 0 0.95 -> 0.93, 2 0.03 -> 0.05\n",
      "\n",
      "=== Conversation 0 <-> 1 ===\n",
      "0: Oh, I definitely agree! Dogs just have that special way of bringing people together and they always seem so happy to see you.\n",
      "1: Absolutely! There's nothing like coming home to a wagging tail and all that excitement—they really make you feel loved and needed.\n",
      "0: I totally agree! Dogs just have this amazing way of making you feel special, like you’re the most important person in the world. Their loyalty is something else.\n",
      "1: Exactly, man! Dogs are just on another level with the loyalty and affection—they really do make every day feel brighter. There’s just nothing quite like coming home to a happy pup.\n",
      "=== End Conversation 0 <-> 1 ===\n",
      "\n",
      "Belief update 0<->1: 0 0.93 -> 0.94, 1 0.96 -> 0.97\n",
      "\n",
      "=== Conversation 1 <-> 4 ===\n",
      "1: Honestly, I totally agree—dogs are better than cats. They're loyal, playful, and just way more fun to be around.\n",
      "4: I get where you're coming from, but I actually think cats have a lot of great qualities too. They're independent, low-maintenance, and can be really affectionate in their own way.\n",
      "1: Sure, cats have their perks, but dogs just bring so much energy and loyalty to the table. I love that they'll always be happy to see you and want to hang out.\n",
      "4: I totally get the appeal, but I’m honestly more of a cat person. I like how independent cats are, and not everyone wants that high-energy vibe all the time.\n",
      "=== End Conversation 1 <-> 4 ===\n",
      "\n",
      "Belief update 1<->4: 1 0.97 -> 0.95, 4 0.05 -> 0.08\n",
      "Round 2: 4/5 exposed/believing > 0\n",
      "Round 2 summary: Most people do not strongly agree that dogs are better than cats.\n"
     ]
    }
   ],
   "source": [
    "# New modular API usage demo\n",
    "import importlib, llm_abm.viz\n",
    "importlib.reload(llm_abm.viz)\n",
    "\n",
    "from llm_abm.config import load_config\n",
    "from llm_abm.simulation import run_simulation\n",
    "from llm_abm.viz import plot_coverage_over_time, plot_final_beliefs\n",
    "from llm_abm.viz import plot_belief_trajectories, belief_trajectories_table\n",
    "\n",
    "cfg = load_config('config/example.yaml')\n",
    "res = run_simulation(cfg)"
   ]
  },
  {
   "cell_type": "code",
   "execution_count": null,
   "id": "f6511a96",
   "metadata": {},
   "outputs": [],
   "source": [
    "import pandas as pd\n",
    "\n",
    "plot_coverage_over_time(res['history'])\n",
    "plot_final_beliefs(res['G'], res['beliefs'])\n",
    "plot_belief_trajectories(res['history'], node_ids=[0, 1, 2])\n",
    "\n",
    "df_traj = belief_trajectories_table(res['history'], node_ids=[0, 1, 2])\n",
    "display(df_traj)\n",
    "rows = [{'round': h['round'], 'coverage': len(h['coverage']), 'summary': h['summary']} for h in res['history']]\n",
    "display(pd.DataFrame(rows))"
   ]
  },
  {
   "cell_type": "code",
   "execution_count": null,
   "id": "7aae7783",
   "metadata": {},
   "outputs": [],
   "source": []
  }
 ],
 "metadata": {
  "kernelspec": {
   "display_name": "Python 3 (ipykernel)",
   "language": "python",
   "name": "python3"
  },
  "language_info": {
   "codemirror_mode": {
    "name": "ipython",
    "version": 3
   },
   "file_extension": ".py",
   "mimetype": "text/x-python",
   "name": "python",
   "nbconvert_exporter": "python",
   "pygments_lexer": "ipython3",
   "version": "3.9.12"
  }
 },
 "nbformat": 4,
 "nbformat_minor": 5
}
